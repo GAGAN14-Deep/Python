{
 "cells": [
  {
   "cell_type": "code",
   "execution_count": 1,
   "metadata": {},
   "outputs": [],
   "source": [
    "import speech_recognition as sr\n",
    "import pyaudio\n",
    "import pyttsx3 as p\n",
    "import os\n",
    "import mysql.connector\n",
    "import pandas as pd\n",
    "import numpy as np\n",
    "import matplotlib.pyplot as plt\n",
    "import seaborn as sns\n",
    "import functools\n",
    "%matplotlib inline"
   ]
  },
  {
   "cell_type": "code",
   "execution_count": null,
   "metadata": {},
   "outputs": [],
   "source": [
    "from mydatabase import *"
   ]
  },
  {
   "cell_type": "code",
   "execution_count": null,
   "metadata": {},
   "outputs": [],
   "source": [
    "from Web_automation import *"
   ]
  },
  {
   "cell_type": "code",
   "execution_count": 6,
   "metadata": {},
   "outputs": [
    {
     "name": "stdout",
     "output_type": "stream",
     "text": [
      "hello\n",
      "(22, 'Gagan', 'checking', 75000, 'assistant manager', datetime.timedelta(seconds=26295), datetime.timedelta(seconds=73095), None)\n",
      "(42, 'Gagan', 'testing', 45000, 'meri jaan', datetime.timedelta(seconds=26295), datetime.timedelta(seconds=73095), None)\n",
      "(51, 'Gagan', 'testing database', 45000, 'HR', datetime.timedelta(seconds=26295), datetime.timedelta(seconds=73095), None)\n",
      "(100, 'Justin', 'going to check', 30000, 'Team Leader', datetime.timedelta(seconds=28800), datetime.timedelta(seconds=39600), None)\n",
      "(101, 'Mark', 'the data ', 40000, 'Manager', datetime.timedelta(seconds=32400), datetime.timedelta(seconds=36000), None)\n",
      "(102, 'Rosie', 'within this column', 35000, 'HR', datetime.timedelta(seconds=32400), datetime.timedelta(seconds=43200), None)\n",
      "(103, 'Lily', 'for txt', 30000, 'Backend Programmer', datetime.timedelta(seconds=39600), datetime.timedelta(seconds=51720), None)\n",
      "(104, 'Brian', 'for eg', 38000, 'Asst. Manager', datetime.timedelta(seconds=73858), datetime.timedelta(seconds=40835), None)\n",
      "(105, 'Steve', 'for demo', 32000, 'Accountant', datetime.timedelta(seconds=77445), datetime.timedelta(seconds=83745), None)\n",
      "(106, 'Jim', 'check', 32000, 'Accountant', datetime.timedelta(seconds=63955), datetime.timedelta(seconds=74755), None)\n",
      "(107, 'Pam', 'compile', 25000, 'Receptionist', datetime.timedelta(seconds=73855), datetime.timedelta(seconds=82800), None)\n",
      "(108, 'Olivia', 'just kidding', 35000, 'HR', datetime.timedelta(seconds=55845), datetime.timedelta(seconds=59155), None)\n",
      "(109, 'Laura', 'testing', 45000, 'Manager', datetime.timedelta(seconds=44295), datetime.timedelta(seconds=55095), None)\n",
      "(110, 'Robert', 'testing', 45000, 'Manager', datetime.timedelta(seconds=44295), datetime.timedelta(seconds=55095), None)\n",
      "(111, 'Marcus', 'testing', 32000, 'Accounts', datetime.timedelta(seconds=26295), datetime.timedelta(seconds=73095), None)\n",
      "(115, 'Robert', 'testing', 32000, 'Accounts', datetime.timedelta(seconds=26295), datetime.timedelta(seconds=73095), None)\n",
      "(150, 'Gagan', 'testing', 45000, 'Manager', None, None, None)\n",
      "The output will be in next line\n",
      "[('Gagan',), ('Gagan',), ('Gagan',), ('Justin',), ('Mark',), ('Rosie',), ('Lily',), ('Brian',), ('Steve',), ('Jim',), ('Pam',), ('Olivia',), ('Laura',), ('Robert',), ('Marcus',), ('Robert',), ('Gagan',)]\n"
     ]
    }
   ],
   "source": [
    "#recognizing audio and typing\n",
    "r=sr.Recognizer()\n",
    "    \n",
    "with sr.Microphone() as source:\n",
    "    text=r.listen(source)\n",
    "    \n",
    "    try:\n",
    "        recognised_text = r.recognize_google(text)\n",
    "        print(recognised_text)\n",
    "        if(recognised_text==\"hello\"):\n",
    "            hello()\n",
    "    except sr.UnknownValueError:\n",
    "        print(\"\")\n",
    "    except sr.RequestError as e:\n",
    "        print(\"\")"
   ]
  },
  {
   "cell_type": "code",
   "execution_count": 4,
   "metadata": {},
   "outputs": [
    {
     "ename": "IndentationError",
     "evalue": "unexpected indent (<ipython-input-4-1962c54bc7b8>, line 3)",
     "output_type": "error",
     "traceback": [
      "\u001b[1;36m  File \u001b[1;32m\"<ipython-input-4-1962c54bc7b8>\"\u001b[1;36m, line \u001b[1;32m3\u001b[0m\n\u001b[1;33m    mydb = mysql.connector.connect(host=\"127.0.0.1\",\u001b[0m\n\u001b[1;37m    ^\u001b[0m\n\u001b[1;31mIndentationError\u001b[0m\u001b[1;31m:\u001b[0m unexpected indent\n"
     ]
    }
   ],
   "source": [
    "#function for max salary value\n",
    "#def hello():\n",
    "    mydb = mysql.connector.connect(host=\"127.0.0.1\",\n",
    "                                    port=\"3306\",\n",
    "                                    user=\"root\",\n",
    "                                    password=\"password\",\n",
    "                                    db=\"database1\")\n",
    "    mydb\n",
    "    \n",
    "    #selecting everything from Employee database\n",
    "    mycursor= mydb.cursor()\n",
    "    mycursor.execute(\"Select * from employee\")\n",
    "    \n",
    "    myresult= mycursor.fetchall()\n",
    "    for row in myresult:\n",
    "        print(row)\n",
    "    \n",
    "    #Finding the maximum value from database using SQL query only\n",
    "    mycursor= mydb.cursor()\n",
    "    mycursor.execute(\"SELECT MAX(Salary) AS maximum FROM employee\")\n",
    "    myresult = mycursor.fetchall()\n",
    "    \n",
    "    print(\"the max salary is \", myresult[0])"
   ]
  },
  {
   "cell_type": "code",
   "execution_count": 5,
   "metadata": {},
   "outputs": [],
   "source": [
    "def hello():\n",
    "    mydb = mysql.connector.connect(host=\"127.0.0.1\",\n",
    "                                    port=\"3306\",\n",
    "                                    user=\"root\",\n",
    "                                    password=\"password\",\n",
    "                                    db=\"database1\")\n",
    "    mydb\n",
    "    \n",
    "    #selecting everything from Employee database\n",
    "    mycursor= mydb.cursor()\n",
    "    mycursor.execute(\"Select * from employee\")\n",
    "    \n",
    "    myresult= mycursor.fetchall()\n",
    "    for row in myresult:\n",
    "        print(row)\n",
    "    \n",
    "    mycursor = mydb.cursor()\n",
    "    mycursor.execute(\"SELECT employee_name FROM employee\")\n",
    "    myresult = mycursor.fetchall()\n",
    "    print(\"The output will be in next line\")\n",
    "    print(myresult)"
   ]
  },
  {
   "cell_type": "code",
   "execution_count": null,
   "metadata": {},
   "outputs": [],
   "source": [
    "#recognizing audio and typing\n",
    "r=sr.Recognizer()\n",
    "    \n",
    "with sr.Microphone() as source:\n",
    "    text=r.listen(source)\n",
    "    \n",
    "    try:\n",
    "        recognised_text = r.recognize_google(text)\n",
    "        print(recognised_text)\n",
    "        sample= recognised_text()\n",
    "        print(sample)\n",
    "        #if(recognised_text==\"hello\"):\n",
    "            #hello()\n",
    "    except sr.UnknownValueError:\n",
    "        print(\"\")\n",
    "    except sr.RequestError as e:\n",
    "        print(\"\")"
   ]
  },
  {
   "cell_type": "code",
   "execution_count": null,
   "metadata": {},
   "outputs": [],
   "source": [
    "def hello():\n",
    "    mydb = mysql.connector.connect(host=\"127.0.0.1\",\n",
    "                                    port=\"3306\",\n",
    "                                    user=\"root\",\n",
    "                                    password=\"password\",\n",
    "                                    db=\"database1\")\n",
    "    mydb\n",
    "    \n",
    "    #selecting everything from Employee database\n",
    "    mycursor= mydb.cursor()\n",
    "    mycursor.execute(\"Select * from employee\")\n",
    "    \n",
    "    myresult= mycursor.fetchall()\n",
    "    for row in myresult:\n",
    "        r=sr.Recognizer()\n",
    "        with sr.Microphone() as source:\n",
    "            text=r.listen(source)\n",
    "            try:\n",
    "                recognised_text = r.recognize_google(text)\n",
    "                print(recognised_text)\n",
    "            except sr.UnknownValueError:\n",
    "                print(\"\")\n",
    "            except sr.RequestError as e:\n",
    "                print(\"\")"
   ]
  },
  {
   "cell_type": "code",
   "execution_count": null,
   "metadata": {},
   "outputs": [],
   "source": [
    "mydb = mysql.connector.connect(host=\"127.0.0.1\",\n",
    "                                    port=\"3306\",\n",
    "                                    user=\"root\",\n",
    "                                    password=\"password\",\n",
    "                                    db=\"database1\")\n",
    "mydb\n",
    "mycursor= mydb.cursor()\n",
    "mycursor.execute(\"Select * from employee\")\n",
    "\n",
    "myresult= mycursor.fetchall()\n",
    "print(myresult)\n"
   ]
  },
  {
   "cell_type": "code",
   "execution_count": null,
   "metadata": {},
   "outputs": [],
   "source": [
    "#recognizing audio and typing\n",
    "r=sr.Recognizer()\n",
    "    \n",
    "with sr.Microphone() as source:\n",
    "    text=r.listen(source)\n",
    "    \n",
    "    try:\n",
    "        recognised_text = r.recognize_google(text)\n",
    "        print(recognised_text)\n",
    "    except sr.UnknownValueError:\n",
    "        print(\"\")\n",
    "    except sr.RequestError as e:\n",
    "        print(\"\")\n"
   ]
  },
  {
   "cell_type": "code",
   "execution_count": null,
   "metadata": {},
   "outputs": [],
   "source": [
    "mydb = mysql.connector.connect(host=\"127.0.0.1\",\n",
    "                                    port=\"3306\",\n",
    "                                    user=\"root\",\n",
    "                                    password=\"password\",\n",
    "                                    db=\"database1\")\n",
    "mycursor = mydb.cursor()\n",
    "\n",
    "sql = \"SELECT * FROM employee WHERE employee_name = %s\"\n",
    "name=(recognised_text,)\n",
    "mycursor.execute(sql,name)\n",
    "\n",
    "myresult = mycursor.fetchall()\n",
    "\n",
    "for x in myresult:\n",
    "  print(x)"
   ]
  },
  {
   "cell_type": "code",
   "execution_count": null,
   "metadata": {},
   "outputs": [],
   "source": [
    "#recognizing audio and typing\n",
    "r=sr.Recognizer()\n",
    "    \n",
    "with sr.Microphone() as source:\n",
    "    text=r.listen(source)\n",
    "    \n",
    "    try:\n",
    "        recognised_text = r.recognize_google(text)\n",
    "        print(recognised_text)\n",
    "    except sr.UnknownValueError:\n",
    "        print(\"\")\n",
    "    except sr.RequestError as e:\n",
    "        print(\"\")"
   ]
  },
  {
   "cell_type": "code",
   "execution_count": null,
   "metadata": {},
   "outputs": [],
   "source": [
    "#recognizing audio and typing\n",
    "r=sr.Recognizer()\n",
    "    \n",
    "with sr.Microphone() as source:\n",
    "    text=r.listen(source)\n",
    "    \n",
    "    try:\n",
    "        recognised_text = r.recognize_google(text)\n",
    "        print(recognised_text)\n",
    "    except sr.UnknownValueError:\n",
    "        print(\"\")\n",
    "    except sr.RequestError as e:\n",
    "        print(\"\")\n"
   ]
  },
  {
   "cell_type": "code",
   "execution_count": null,
   "metadata": {},
   "outputs": [],
   "source": []
  },
  {
   "cell_type": "code",
   "execution_count": null,
   "metadata": {},
   "outputs": [],
   "source": []
  },
  {
   "cell_type": "code",
   "execution_count": null,
   "metadata": {},
   "outputs": [],
   "source": []
  },
  {
   "cell_type": "code",
   "execution_count": null,
   "metadata": {},
   "outputs": [],
   "source": []
  },
  {
   "cell_type": "code",
   "execution_count": null,
   "metadata": {},
   "outputs": [],
   "source": [
    "#recognizing audio and typing\n",
    "r=sr.Recognizer()\n",
    "    \n",
    "with sr.Microphone() as source:\n",
    "    text=r.listen(source)\n",
    "    \n",
    "    try:\n",
    "        recognised_text = r.recognize_google(text)\n",
    "        print(recognised_text)\n",
    "    except sr.UnknownValueError:\n",
    "        print(\"\")\n",
    "    except sr.RequestError as e:\n",
    "        print(\"\")\n",
    "\n",
    "mydb = mysql.connector.connect(host=\"127.0.0.1\",\n",
    "                                    port=\"3306\",\n",
    "                                    user=\"root\",\n",
    "                                    password=\"password\",\n",
    "                                    db=\"database1\")\n",
    "mycursor = mydb.cursor()\n",
    "\n",
    "sql = \"SELECT * FROM employee WHERE employee_name = %s\"\n",
    "name=(recognised_text,)\n",
    "mycursor.execute(sql,name)\n",
    "\n",
    "myresult = mycursor.fetchall()\n",
    "\n",
    "for x in myresult:\n",
    "  print(x)\n",
    "engine = p.init()\n",
    "\n",
    "engine.say(x)\n",
    "\n",
    "engine.runAndWait()"
   ]
  },
  {
   "cell_type": "code",
   "execution_count": null,
   "metadata": {},
   "outputs": [],
   "source": []
  },
  {
   "cell_type": "code",
   "execution_count": null,
   "metadata": {},
   "outputs": [],
   "source": [
    "engine = p.init()\n",
    "engine.say(\"Sorry Speak again\")\n",
    "engine.runAndWait()"
   ]
  },
  {
   "cell_type": "code",
   "execution_count": null,
   "metadata": {},
   "outputs": [],
   "source": [
    "#recognizing audio and typing\n",
    "r=sr.Recognizer()\n",
    "    \n",
    "with sr.Microphone() as source:\n",
    "    text=r.listen(source)\n",
    "    \n",
    "    try:\n",
    "        recognised_text = r.recognize_google(text)\n",
    "        print(recognised_text)\n",
    "\n",
    "    except sr.UnknownValueError:\n",
    "        print(\"Sorry, Unable to get what you are saying\")\n",
    "        engine = p.init()\n",
    "        engine.say(\"Sorry, Unable to get what you are saying\")\n",
    "        engine.runAndWait()\n",
    "    except sr.RequestError as e:\n",
    "        print(\"Sorry Unable to get what you are saying\")\n",
    "        engine = p.init()\n",
    "        engine.say(\"Sorry Unable to get what you are saying\")\n",
    "        engine.runAndWait()\n",
    "\n",
    "mydb = mysql.connector.connect(host=\"127.0.0.1\",\n",
    "                                    port=\"3306\",\n",
    "                                    user=\"root\",\n",
    "                                    password=\"password\",\n",
    "                                    db=\"database1\")\n",
    "mycursor = mydb.cursor()\n",
    "\n",
    "sql = \"SELECT * FROM employee WHERE employee_name = %s\"\n",
    "name=(recognised_text,)\n",
    "mycursor.execute(sql,name)\n",
    "\n",
    "myresult = mycursor.fetchall()\n",
    "for x in myresult:\n",
    "    print(x)\n",
    "    engine=p.init()\n",
    "    engine.say(x)\n",
    "    engine.runAndWait()\n",
    "\n",
    "if not myresult:\n",
    "    print(\"Sorry this name does not exist in our database\")\n",
    "    engine=p.init()\n",
    "    engine.say(\"Sorry this name does not exist in our database\")\n",
    "    engine.runAndWait()"
   ]
  },
  {
   "cell_type": "code",
   "execution_count": null,
   "metadata": {},
   "outputs": [],
   "source": [
    "#recognizing audio and typing\n",
    "r=sr.Recognizer()\n",
    "    \n",
    "with sr.Microphone() as source:\n",
    "    text=r.listen(source)\n",
    "    \n",
    "    try:\n",
    "        recognised_text = r.recognize_google(text)\n",
    "        print(recognised_text)\n",
    "\n",
    "    except sr.UnknownValueError:\n",
    "        print(\"Sorry, Unable to get what you are saying\")\n",
    "        engine = p.init()\n",
    "        engine.say(\"Sorry, Unable to get what you are saying\")\n",
    "        engine.runAndWait()\n",
    "    except sr.RequestError as e:\n",
    "        print(\"Sorry Unable to get what you are saying\")\n",
    "        engine = p.init()\n",
    "        engine.say(\"Sorry Unable to get what you are saying\")\n",
    "        engine.runAndWait()\n",
    "\n",
    "mydb = mysql.connector.connect(host=\"127.0.0.1\",\n",
    "                                    port=\"3306\",\n",
    "                                    user=\"root\",\n",
    "                                    password=\"password\",\n",
    "                                    db=\"database1\")\n",
    "mycursor = mydb.cursor()\n",
    "\n",
    "sql = \"SELECT hours FROM employee WHERE employee_name = %s\"\n",
    "name=(recognised_text,)\n",
    "mycursor.execute(sql,name)\n",
    "\n",
    "myresult = mycursor.fetchall()\n",
    "for x in myresult:\n",
    "    print(x)\n",
    "    engine=p.init()\n",
    "    engine.say(x)\n",
    "    engine.runAndWait()\n",
    "\n",
    "if not myresult:\n",
    "    print(\"Sorry this name does not exist in our database\")\n",
    "    engine=p.init()\n",
    "    engine.say(\"Sorry this name does not exist in our database\")\n",
    "    engine.runAndWait()"
   ]
  },
  {
   "cell_type": "code",
   "execution_count": null,
   "metadata": {},
   "outputs": [],
   "source": []
  },
  {
   "cell_type": "code",
   "execution_count": null,
   "metadata": {},
   "outputs": [],
   "source": []
  },
  {
   "cell_type": "code",
   "execution_count": null,
   "metadata": {},
   "outputs": [],
   "source": [
    "mydb = mysql.connector.connect(host=\"127.0.0.1\",\n",
    "                                    port=\"3306\",\n",
    "                                    user=\"root\",\n",
    "                                    password=\"password\",\n",
    "                                    db=\"database1\")\n",
    "mycursor = mydb.cursor()\n",
    "\n",
    "sql = \"SELECT start_at, end_at FROM employee WHERE employee_name = %s\"\n",
    "name=('justin',)\n",
    "mycursor.execute(sql,name)\n",
    "\n",
    "myresult = mycursor.fetchall()\n",
    "\n",
    "for x in myresult:\n",
    "  print(x)\n",
    "\n",
    "print(type(x))\n"
   ]
  },
  {
   "cell_type": "code",
   "execution_count": 8,
   "metadata": {},
   "outputs": [
    {
     "name": "stdout",
     "output_type": "stream",
     "text": [
      "3:22:00\n"
     ]
    }
   ],
   "source": [
    "####Finding the difference between the time of two different columns\n",
    "\n",
    "\n",
    "mydb = mysql.connector.connect(host=\"127.0.0.1\",\n",
    "                                    port=\"3306\",\n",
    "                                    user=\"root\",\n",
    "                                    password=\"password\",\n",
    "                                    db=\"database1\")\n",
    "mydb\n",
    "mycursor= mydb.cursor()\n",
    "\n",
    "sql = \"SELECT TIMEDIFF(end_at,start_at) AS hours from employee WHERE employee_name = %s\"\n",
    "name=('lily',)\n",
    "\n",
    "mycursor.execute(sql,name)\n",
    "\n",
    "\n",
    "myresult = mycursor.fetchall()\n",
    "\n",
    "for x in myresult:\n",
    "    res = functools.reduce(lambda sub, ele: sub * 10 + ele, x) \n",
    "    print(res)\n",
    "    \n",
    "   \n",
    "engine=p.init()\n",
    "engine.say(res)\n",
    "engine.runAndWait()\n",
    "\n"
   ]
  },
  {
   "cell_type": "code",
   "execution_count": null,
   "metadata": {},
   "outputs": [],
   "source": []
  },
  {
   "cell_type": "code",
   "execution_count": null,
   "metadata": {},
   "outputs": [],
   "source": []
  },
  {
   "cell_type": "code",
   "execution_count": 9,
   "metadata": {},
   "outputs": [
    {
     "name": "stdout",
     "output_type": "stream",
     "text": [
      "Justin\n",
      "(100, 'Justin', 'going to check', 30000, 'Team Leader', datetime.timedelta(seconds=28800), datetime.timedelta(seconds=39600), None)\n",
      "The employee had worked for 3:00:00\n"
     ]
    }
   ],
   "source": [
    "#recognizing audio and typing\n",
    "r=sr.Recognizer()\n",
    "    \n",
    "with sr.Microphone() as source:\n",
    "    text=r.listen(source)\n",
    "    \n",
    "    try:\n",
    "        recognised_text = r.recognize_google(text)\n",
    "        print(recognised_text)\n",
    "    except sr.UnknownValueError:\n",
    "        print(\"\")\n",
    "    except sr.RequestError as e:\n",
    "        print(\"\")\n",
    "mydb = mysql.connector.connect(host=\"127.0.0.1\",\n",
    "                                    port=\"3306\",\n",
    "                                    user=\"root\",\n",
    "                                    password=\"password\",\n",
    "                                    db=\"database1\")\n",
    "mycursor = mydb.cursor()\n",
    "\n",
    "sql = \"SELECT * FROM employee WHERE employee_name = %s\"\n",
    "name=(recognised_text,)\n",
    "mycursor.execute(sql,name)\n",
    "\n",
    "myresult = mycursor.fetchall()\n",
    "\n",
    "for x in myresult:\n",
    "  print(x)\n",
    "engine=p.init()\n",
    "engine.say(x)\n",
    "engine.runAndWait()\n",
    "hours()"
   ]
  },
  {
   "cell_type": "code",
   "execution_count": 7,
   "metadata": {},
   "outputs": [],
   "source": [
    "def hours():\n",
    "    sql = \"SELECT TIMEDIFF(end_at,start_at) AS hours from employee WHERE employee_name = %s\"\n",
    "    name=(recognised_text,)\n",
    "\n",
    "    mycursor.execute(sql,name)\n",
    "\n",
    "\n",
    "    myresult = mycursor.fetchall()\n",
    "\n",
    "    for x in myresult:\n",
    "        res = functools.reduce(lambda sub, ele: sub * 10 + ele, x) \n",
    "        print(\"The employee had worked for\",res)\n",
    "    engine=p.init()\n",
    "    engine.say(\"The employee had worked for\")\n",
    "    engine.say(res)\n",
    "    engine.runAndWait()\n"
   ]
  },
  {
   "cell_type": "code",
   "execution_count": 4,
   "metadata": {},
   "outputs": [
    {
     "ename": "TypeError",
     "evalue": "expected bytes, Descriptor found",
     "output_type": "error",
     "traceback": [
      "\u001b[1;31m---------------------------------------------------------------------------\u001b[0m",
      "\u001b[1;31mTypeError\u001b[0m                                 Traceback (most recent call last)",
      "\u001b[1;32m<ipython-input-4-ab413e7a8b2b>\u001b[0m in \u001b[0;36m<module>\u001b[1;34m\u001b[0m\n\u001b[1;32m----> 1\u001b[1;33m \u001b[1;32mfrom\u001b[0m \u001b[0mkeras\u001b[0m\u001b[1;33m.\u001b[0m\u001b[0mdatasets\u001b[0m \u001b[1;32mimport\u001b[0m \u001b[0mmnist\u001b[0m\u001b[1;33m\u001b[0m\u001b[1;33m\u001b[0m\u001b[0m\n\u001b[0m",
      "\u001b[1;32m~\\Anaconda3\\lib\\site-packages\\keras\\__init__.py\u001b[0m in \u001b[0;36m<module>\u001b[1;34m\u001b[0m\n\u001b[0;32m      1\u001b[0m \u001b[1;33m\u001b[0m\u001b[0m\n\u001b[0;32m      2\u001b[0m \u001b[1;32mtry\u001b[0m\u001b[1;33m:\u001b[0m\u001b[1;33m\u001b[0m\u001b[1;33m\u001b[0m\u001b[0m\n\u001b[1;32m----> 3\u001b[1;33m     \u001b[1;32mfrom\u001b[0m \u001b[0mtensorflow\u001b[0m\u001b[1;33m.\u001b[0m\u001b[0mkeras\u001b[0m\u001b[1;33m.\u001b[0m\u001b[0mlayers\u001b[0m\u001b[1;33m.\u001b[0m\u001b[0mexperimental\u001b[0m\u001b[1;33m.\u001b[0m\u001b[0mpreprocessing\u001b[0m \u001b[1;32mimport\u001b[0m \u001b[0mRandomRotation\u001b[0m\u001b[1;33m\u001b[0m\u001b[1;33m\u001b[0m\u001b[0m\n\u001b[0m\u001b[0;32m      4\u001b[0m \u001b[1;32mexcept\u001b[0m \u001b[0mImportError\u001b[0m\u001b[1;33m:\u001b[0m\u001b[1;33m\u001b[0m\u001b[1;33m\u001b[0m\u001b[0m\n\u001b[0;32m      5\u001b[0m     raise ImportError(\n",
      "\u001b[1;32m~\\Anaconda3\\lib\\site-packages\\tensorflow\\__init__.py\u001b[0m in \u001b[0;36m<module>\u001b[1;34m\u001b[0m\n\u001b[0;32m     39\u001b[0m \u001b[1;32mimport\u001b[0m \u001b[0msys\u001b[0m \u001b[1;32mas\u001b[0m \u001b[0m_sys\u001b[0m\u001b[1;33m\u001b[0m\u001b[1;33m\u001b[0m\u001b[0m\n\u001b[0;32m     40\u001b[0m \u001b[1;33m\u001b[0m\u001b[0m\n\u001b[1;32m---> 41\u001b[1;33m \u001b[1;32mfrom\u001b[0m \u001b[0mtensorflow\u001b[0m\u001b[1;33m.\u001b[0m\u001b[0mpython\u001b[0m\u001b[1;33m.\u001b[0m\u001b[0mtools\u001b[0m \u001b[1;32mimport\u001b[0m \u001b[0mmodule_util\u001b[0m \u001b[1;32mas\u001b[0m \u001b[0m_module_util\u001b[0m\u001b[1;33m\u001b[0m\u001b[1;33m\u001b[0m\u001b[0m\n\u001b[0m\u001b[0;32m     42\u001b[0m \u001b[1;32mfrom\u001b[0m \u001b[0mtensorflow\u001b[0m\u001b[1;33m.\u001b[0m\u001b[0mpython\u001b[0m\u001b[1;33m.\u001b[0m\u001b[0mutil\u001b[0m\u001b[1;33m.\u001b[0m\u001b[0mlazy_loader\u001b[0m \u001b[1;32mimport\u001b[0m \u001b[0mLazyLoader\u001b[0m \u001b[1;32mas\u001b[0m \u001b[0m_LazyLoader\u001b[0m\u001b[1;33m\u001b[0m\u001b[1;33m\u001b[0m\u001b[0m\n\u001b[0;32m     43\u001b[0m \u001b[1;33m\u001b[0m\u001b[0m\n",
      "\u001b[1;32m~\\Anaconda3\\lib\\site-packages\\tensorflow\\python\\__init__.py\u001b[0m in \u001b[0;36m<module>\u001b[1;34m\u001b[0m\n\u001b[0;32m     38\u001b[0m \u001b[1;31m# pylint: disable=wildcard-import,g-bad-import-order,g-import-not-at-top\u001b[0m\u001b[1;33m\u001b[0m\u001b[1;33m\u001b[0m\u001b[1;33m\u001b[0m\u001b[0m\n\u001b[0;32m     39\u001b[0m \u001b[1;33m\u001b[0m\u001b[0m\n\u001b[1;32m---> 40\u001b[1;33m \u001b[1;32mfrom\u001b[0m \u001b[0mtensorflow\u001b[0m\u001b[1;33m.\u001b[0m\u001b[0mpython\u001b[0m\u001b[1;33m.\u001b[0m\u001b[0meager\u001b[0m \u001b[1;32mimport\u001b[0m \u001b[0mcontext\u001b[0m\u001b[1;33m\u001b[0m\u001b[1;33m\u001b[0m\u001b[0m\n\u001b[0m\u001b[0;32m     41\u001b[0m \u001b[1;33m\u001b[0m\u001b[0m\n\u001b[0;32m     42\u001b[0m \u001b[1;31m# pylint: enable=wildcard-import\u001b[0m\u001b[1;33m\u001b[0m\u001b[1;33m\u001b[0m\u001b[1;33m\u001b[0m\u001b[0m\n",
      "\u001b[1;32m~\\Anaconda3\\lib\\site-packages\\tensorflow\\python\\eager\\context.py\u001b[0m in \u001b[0;36m<module>\u001b[1;34m\u001b[0m\n\u001b[0;32m     30\u001b[0m \u001b[1;32mimport\u001b[0m \u001b[0msix\u001b[0m\u001b[1;33m\u001b[0m\u001b[1;33m\u001b[0m\u001b[0m\n\u001b[0;32m     31\u001b[0m \u001b[1;33m\u001b[0m\u001b[0m\n\u001b[1;32m---> 32\u001b[1;33m \u001b[1;32mfrom\u001b[0m \u001b[0mtensorflow\u001b[0m\u001b[1;33m.\u001b[0m\u001b[0mcore\u001b[0m\u001b[1;33m.\u001b[0m\u001b[0mframework\u001b[0m \u001b[1;32mimport\u001b[0m \u001b[0mfunction_pb2\u001b[0m\u001b[1;33m\u001b[0m\u001b[1;33m\u001b[0m\u001b[0m\n\u001b[0m\u001b[0;32m     33\u001b[0m \u001b[1;32mfrom\u001b[0m \u001b[0mtensorflow\u001b[0m\u001b[1;33m.\u001b[0m\u001b[0mcore\u001b[0m\u001b[1;33m.\u001b[0m\u001b[0mprotobuf\u001b[0m \u001b[1;32mimport\u001b[0m \u001b[0mconfig_pb2\u001b[0m\u001b[1;33m\u001b[0m\u001b[1;33m\u001b[0m\u001b[0m\n\u001b[0;32m     34\u001b[0m \u001b[1;32mfrom\u001b[0m \u001b[0mtensorflow\u001b[0m\u001b[1;33m.\u001b[0m\u001b[0mcore\u001b[0m\u001b[1;33m.\u001b[0m\u001b[0mprotobuf\u001b[0m \u001b[1;32mimport\u001b[0m \u001b[0mrewriter_config_pb2\u001b[0m\u001b[1;33m\u001b[0m\u001b[1;33m\u001b[0m\u001b[0m\n",
      "\u001b[1;32m~\\Anaconda3\\lib\\site-packages\\tensorflow\\core\\framework\\function_pb2.py\u001b[0m in \u001b[0;36m<module>\u001b[1;34m\u001b[0m\n\u001b[0;32m     14\u001b[0m \u001b[1;33m\u001b[0m\u001b[0m\n\u001b[0;32m     15\u001b[0m \u001b[1;33m\u001b[0m\u001b[0m\n\u001b[1;32m---> 16\u001b[1;33m \u001b[1;32mfrom\u001b[0m \u001b[0mtensorflow\u001b[0m\u001b[1;33m.\u001b[0m\u001b[0mcore\u001b[0m\u001b[1;33m.\u001b[0m\u001b[0mframework\u001b[0m \u001b[1;32mimport\u001b[0m \u001b[0mattr_value_pb2\u001b[0m \u001b[1;32mas\u001b[0m \u001b[0mtensorflow_dot_core_dot_framework_dot_attr__value__pb2\u001b[0m\u001b[1;33m\u001b[0m\u001b[1;33m\u001b[0m\u001b[0m\n\u001b[0m\u001b[0;32m     17\u001b[0m \u001b[1;32mfrom\u001b[0m \u001b[0mtensorflow\u001b[0m\u001b[1;33m.\u001b[0m\u001b[0mcore\u001b[0m\u001b[1;33m.\u001b[0m\u001b[0mframework\u001b[0m \u001b[1;32mimport\u001b[0m \u001b[0mnode_def_pb2\u001b[0m \u001b[1;32mas\u001b[0m \u001b[0mtensorflow_dot_core_dot_framework_dot_node__def__pb2\u001b[0m\u001b[1;33m\u001b[0m\u001b[1;33m\u001b[0m\u001b[0m\n\u001b[0;32m     18\u001b[0m \u001b[1;32mfrom\u001b[0m \u001b[0mtensorflow\u001b[0m\u001b[1;33m.\u001b[0m\u001b[0mcore\u001b[0m\u001b[1;33m.\u001b[0m\u001b[0mframework\u001b[0m \u001b[1;32mimport\u001b[0m \u001b[0mop_def_pb2\u001b[0m \u001b[1;32mas\u001b[0m \u001b[0mtensorflow_dot_core_dot_framework_dot_op__def__pb2\u001b[0m\u001b[1;33m\u001b[0m\u001b[1;33m\u001b[0m\u001b[0m\n",
      "\u001b[1;32m~\\Anaconda3\\lib\\site-packages\\tensorflow\\core\\framework\\attr_value_pb2.py\u001b[0m in \u001b[0;36m<module>\u001b[1;34m\u001b[0m\n\u001b[0;32m     14\u001b[0m \u001b[1;33m\u001b[0m\u001b[0m\n\u001b[0;32m     15\u001b[0m \u001b[1;33m\u001b[0m\u001b[0m\n\u001b[1;32m---> 16\u001b[1;33m \u001b[1;32mfrom\u001b[0m \u001b[0mtensorflow\u001b[0m\u001b[1;33m.\u001b[0m\u001b[0mcore\u001b[0m\u001b[1;33m.\u001b[0m\u001b[0mframework\u001b[0m \u001b[1;32mimport\u001b[0m \u001b[0mtensor_pb2\u001b[0m \u001b[1;32mas\u001b[0m \u001b[0mtensorflow_dot_core_dot_framework_dot_tensor__pb2\u001b[0m\u001b[1;33m\u001b[0m\u001b[1;33m\u001b[0m\u001b[0m\n\u001b[0m\u001b[0;32m     17\u001b[0m \u001b[1;32mfrom\u001b[0m \u001b[0mtensorflow\u001b[0m\u001b[1;33m.\u001b[0m\u001b[0mcore\u001b[0m\u001b[1;33m.\u001b[0m\u001b[0mframework\u001b[0m \u001b[1;32mimport\u001b[0m \u001b[0mtensor_shape_pb2\u001b[0m \u001b[1;32mas\u001b[0m \u001b[0mtensorflow_dot_core_dot_framework_dot_tensor__shape__pb2\u001b[0m\u001b[1;33m\u001b[0m\u001b[1;33m\u001b[0m\u001b[0m\n\u001b[0;32m     18\u001b[0m \u001b[1;32mfrom\u001b[0m \u001b[0mtensorflow\u001b[0m\u001b[1;33m.\u001b[0m\u001b[0mcore\u001b[0m\u001b[1;33m.\u001b[0m\u001b[0mframework\u001b[0m \u001b[1;32mimport\u001b[0m \u001b[0mtypes_pb2\u001b[0m \u001b[1;32mas\u001b[0m \u001b[0mtensorflow_dot_core_dot_framework_dot_types__pb2\u001b[0m\u001b[1;33m\u001b[0m\u001b[1;33m\u001b[0m\u001b[0m\n",
      "\u001b[1;32m~\\Anaconda3\\lib\\site-packages\\tensorflow\\core\\framework\\tensor_pb2.py\u001b[0m in \u001b[0;36m<module>\u001b[1;34m\u001b[0m\n\u001b[0;32m     14\u001b[0m \u001b[1;33m\u001b[0m\u001b[0m\n\u001b[0;32m     15\u001b[0m \u001b[1;33m\u001b[0m\u001b[0m\n\u001b[1;32m---> 16\u001b[1;33m \u001b[1;32mfrom\u001b[0m \u001b[0mtensorflow\u001b[0m\u001b[1;33m.\u001b[0m\u001b[0mcore\u001b[0m\u001b[1;33m.\u001b[0m\u001b[0mframework\u001b[0m \u001b[1;32mimport\u001b[0m \u001b[0mresource_handle_pb2\u001b[0m \u001b[1;32mas\u001b[0m \u001b[0mtensorflow_dot_core_dot_framework_dot_resource__handle__pb2\u001b[0m\u001b[1;33m\u001b[0m\u001b[1;33m\u001b[0m\u001b[0m\n\u001b[0m\u001b[0;32m     17\u001b[0m \u001b[1;32mfrom\u001b[0m \u001b[0mtensorflow\u001b[0m\u001b[1;33m.\u001b[0m\u001b[0mcore\u001b[0m\u001b[1;33m.\u001b[0m\u001b[0mframework\u001b[0m \u001b[1;32mimport\u001b[0m \u001b[0mtensor_shape_pb2\u001b[0m \u001b[1;32mas\u001b[0m \u001b[0mtensorflow_dot_core_dot_framework_dot_tensor__shape__pb2\u001b[0m\u001b[1;33m\u001b[0m\u001b[1;33m\u001b[0m\u001b[0m\n\u001b[0;32m     18\u001b[0m \u001b[1;32mfrom\u001b[0m \u001b[0mtensorflow\u001b[0m\u001b[1;33m.\u001b[0m\u001b[0mcore\u001b[0m\u001b[1;33m.\u001b[0m\u001b[0mframework\u001b[0m \u001b[1;32mimport\u001b[0m \u001b[0mtypes_pb2\u001b[0m \u001b[1;32mas\u001b[0m \u001b[0mtensorflow_dot_core_dot_framework_dot_types__pb2\u001b[0m\u001b[1;33m\u001b[0m\u001b[1;33m\u001b[0m\u001b[0m\n",
      "\u001b[1;32m~\\Anaconda3\\lib\\site-packages\\tensorflow\\core\\framework\\resource_handle_pb2.py\u001b[0m in \u001b[0;36m<module>\u001b[1;34m\u001b[0m\n\u001b[0;32m     14\u001b[0m \u001b[1;33m\u001b[0m\u001b[0m\n\u001b[0;32m     15\u001b[0m \u001b[1;33m\u001b[0m\u001b[0m\n\u001b[1;32m---> 16\u001b[1;33m \u001b[1;32mfrom\u001b[0m \u001b[0mtensorflow\u001b[0m\u001b[1;33m.\u001b[0m\u001b[0mcore\u001b[0m\u001b[1;33m.\u001b[0m\u001b[0mframework\u001b[0m \u001b[1;32mimport\u001b[0m \u001b[0mtensor_shape_pb2\u001b[0m \u001b[1;32mas\u001b[0m \u001b[0mtensorflow_dot_core_dot_framework_dot_tensor__shape__pb2\u001b[0m\u001b[1;33m\u001b[0m\u001b[1;33m\u001b[0m\u001b[0m\n\u001b[0m\u001b[0;32m     17\u001b[0m \u001b[1;32mfrom\u001b[0m \u001b[0mtensorflow\u001b[0m\u001b[1;33m.\u001b[0m\u001b[0mcore\u001b[0m\u001b[1;33m.\u001b[0m\u001b[0mframework\u001b[0m \u001b[1;32mimport\u001b[0m \u001b[0mtypes_pb2\u001b[0m \u001b[1;32mas\u001b[0m \u001b[0mtensorflow_dot_core_dot_framework_dot_types__pb2\u001b[0m\u001b[1;33m\u001b[0m\u001b[1;33m\u001b[0m\u001b[0m\n\u001b[0;32m     18\u001b[0m \u001b[1;33m\u001b[0m\u001b[0m\n",
      "\u001b[1;32m~\\Anaconda3\\lib\\site-packages\\tensorflow\\core\\framework\\tensor_shape_pb2.py\u001b[0m in \u001b[0;36m<module>\u001b[1;34m\u001b[0m\n\u001b[0;32m    110\u001b[0m   'Dim' : _reflection.GeneratedProtocolMessageType('Dim', (_message.Message,), {\n\u001b[0;32m    111\u001b[0m     \u001b[1;34m'DESCRIPTOR'\u001b[0m \u001b[1;33m:\u001b[0m \u001b[0m_TENSORSHAPEPROTO_DIM\u001b[0m\u001b[1;33m,\u001b[0m\u001b[1;33m\u001b[0m\u001b[1;33m\u001b[0m\u001b[0m\n\u001b[1;32m--> 112\u001b[1;33m     \u001b[1;34m'__module__'\u001b[0m \u001b[1;33m:\u001b[0m \u001b[1;34m'tensorflow.core.framework.tensor_shape_pb2'\u001b[0m\u001b[1;33m\u001b[0m\u001b[1;33m\u001b[0m\u001b[0m\n\u001b[0m\u001b[0;32m    113\u001b[0m     \u001b[1;31m# @@protoc_insertion_point(class_scope:tensorflow.TensorShapeProto.Dim)\u001b[0m\u001b[1;33m\u001b[0m\u001b[1;33m\u001b[0m\u001b[1;33m\u001b[0m\u001b[0m\n\u001b[0;32m    114\u001b[0m     })\n",
      "\u001b[1;31mTypeError\u001b[0m: expected bytes, Descriptor found"
     ]
    }
   ],
   "source": []
  },
  {
   "cell_type": "code",
   "execution_count": 7,
   "metadata": {},
   "outputs": [
    {
     "name": "stdout",
     "output_type": "stream",
     "text": [
      "Collecting protobuf-py3\n",
      "  Downloading https://files.pythonhosted.org/packages/1f/9b/9ab0cf590400a3f38d47acaa31af8e23e0ab8de75f8f96f836a87617890d/protobuf-py3-2.5.1.tar.gz (71kB)\n",
      "Requirement already satisfied: setuptools in c:\\users\\91760\\anaconda3\\lib\\site-packages (from protobuf-py3) (41.4.0)\n",
      "Building wheels for collected packages: protobuf-py3\n",
      "  Building wheel for protobuf-py3 (setup.py): started\n",
      "  Building wheel for protobuf-py3 (setup.py): finished with status 'done'\n",
      "  Created wheel for protobuf-py3: filename=protobuf_py3-2.5.1-cp37-none-any.whl size=92807 sha256=bb5aaca6c3cd252f8726ba2db8025e0366be4b366bc4b1bdd7f3ee0aae570f81\n",
      "  Stored in directory: C:\\Users\\91760\\AppData\\Local\\pip\\Cache\\wheels\\6d\\42\\59\\93e0c066e14f82166e6c0173539dd174bd46f685c161db498d\n",
      "Successfully built protobuf-py3\n",
      "Installing collected packages: protobuf-py3\n",
      "Successfully installed protobuf-py3-2.5.1\n",
      "Note: you may need to restart the kernel to use updated packages.\n"
     ]
    }
   ],
   "source": []
  }
 ],
 "metadata": {
  "kernelspec": {
   "display_name": "Python 3",
   "language": "python",
   "name": "python3"
  },
  "language_info": {
   "codemirror_mode": {
    "name": "ipython",
    "version": 3
   },
   "file_extension": ".py",
   "mimetype": "text/x-python",
   "name": "python",
   "nbconvert_exporter": "python",
   "pygments_lexer": "ipython3",
   "version": "3.7.4"
  }
 },
 "nbformat": 4,
 "nbformat_minor": 2
}
