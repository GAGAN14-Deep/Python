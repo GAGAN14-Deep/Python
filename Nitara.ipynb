{
 "cells": [
  {
   "cell_type": "code",
   "execution_count": 1,
   "metadata": {},
   "outputs": [],
   "source": [
    "import speech_recognition as sr\n",
    "import pyaudio\n",
    "import nltk\n",
    "import nltk.tokenize as nt\n",
    "import en_core_web_sm\n",
    "import spacy\n",
    "import string\n",
    "import pyaudio\n",
    "import pyttsx3 as p"
   ]
  },
  {
   "cell_type": "code",
   "execution_count": 2,
   "metadata": {},
   "outputs": [],
   "source": [
    "import mysql.connector\n",
    "import os"
   ]
  },
  {
   "cell_type": "code",
   "execution_count": null,
   "metadata": {},
   "outputs": [],
   "source": [
    "####connecting database"
   ]
  },
  {
   "cell_type": "code",
   "execution_count": 3,
   "metadata": {},
   "outputs": [],
   "source": [
    "mydb= mysql.connector.connect(host=\"127.0.0.1\",\n",
    "                                    port=\"3306\",\n",
    "                                    user=\"root\",\n",
    "                                    password=\"password\",\n",
    "                                    db=\"database1\")"
   ]
  },
  {
   "cell_type": "code",
   "execution_count": 4,
   "metadata": {},
   "outputs": [
    {
     "data": {
      "text/plain": [
       "<mysql.connector.connection.MySQLConnection at 0x193ded04248>"
      ]
     },
     "execution_count": 4,
     "metadata": {},
     "output_type": "execute_result"
    }
   ],
   "source": [
    "mydb"
   ]
  },
  {
   "cell_type": "code",
   "execution_count": 5,
   "metadata": {},
   "outputs": [],
   "source": [
    "#voice imput function\n",
    "def voice_input():\n",
    "    r=sr.Recognizer()\n",
    "    \n",
    "    with sr.Microphone() as source:\n",
    "        text=r.listen(source)\n",
    "    \n",
    "        try:\n",
    "            recognised_text = r.recognize_google(text)\n",
    "            naam=recognised_text\n",
    "            return(naam)\n",
    "        except sr.UnknownValueError:\n",
    "            print(\"\")\n",
    "        except sr.RequestError as e:\n",
    "            print(\"\")\n",
    "  "
   ]
  },
  {
   "cell_type": "code",
   "execution_count": 6,
   "metadata": {},
   "outputs": [],
   "source": [
    "engine=p.init()\n",
    "engine.say(\"Please enter a sentence\")\n",
    "engine.runAndWait()\n",
    "text=voice_input()"
   ]
  },
  {
   "cell_type": "code",
   "execution_count": 7,
   "metadata": {},
   "outputs": [
    {
     "data": {
      "text/plain": [
       "'my name is Government and my employee ID is 1507 I am working on project one and my salary is 1000 and I am an intern'"
      ]
     },
     "execution_count": 7,
     "metadata": {},
     "output_type": "execute_result"
    }
   ],
   "source": [
    "text"
   ]
  },
  {
   "cell_type": "code",
   "execution_count": 8,
   "metadata": {},
   "outputs": [
    {
     "name": "stdout",
     "output_type": "stream",
     "text": [
      "1 sentences: ['my name is Government and my employee ID is 1507 I am working on project one and my salary is 1000 and I am an intern']\n",
      "26 words: ['my', 'name', 'is', 'Government', 'and', 'my', 'employee', 'ID', 'is', '1507', 'I', 'am', 'working', 'on', 'project', 'one', 'and', 'my', 'salary', 'is', '1000', 'and', 'I', 'am', 'an', 'intern']\n"
     ]
    }
   ],
   "source": [
    "## Sentence Tokenize\n",
    "from nltk.tokenize import sent_tokenize\n",
    "sentences = sent_tokenize(text)\n",
    "print(len(sentences), 'sentences:', sentences)\n",
    "\n",
    "### Word Tokenize from Sentence\n",
    "from nltk.tokenize import word_tokenize\n",
    "words = word_tokenize(text)\n",
    "print(len(words), 'words:', words)"
   ]
  },
  {
   "cell_type": "code",
   "execution_count": 9,
   "metadata": {
    "scrolled": true
   },
   "outputs": [
    {
     "name": "stdout",
     "output_type": "stream",
     "text": [
      "179 stopwords: ['i', 'me', 'my', 'myself', 'we', 'our', 'ours', 'ourselves', 'you', \"you're\", \"you've\", \"you'll\", \"you'd\", 'your', 'yours', 'yourself', 'yourselves', 'he', 'him', 'his', 'himself', 'she', \"she's\", 'her', 'hers', 'herself', 'it', \"it's\", 'its', 'itself', 'they', 'them', 'their', 'theirs', 'themselves', 'what', 'which', 'who', 'whom', 'this', 'that', \"that'll\", 'these', 'those', 'am', 'is', 'are', 'was', 'were', 'be', 'been', 'being', 'have', 'has', 'had', 'having', 'do', 'does', 'did', 'doing', 'a', 'an', 'the', 'and', 'but', 'if', 'or', 'because', 'as', 'until', 'while', 'of', 'at', 'by', 'for', 'with', 'about', 'against', 'between', 'into', 'through', 'during', 'before', 'after', 'above', 'below', 'to', 'from', 'up', 'down', 'in', 'out', 'on', 'off', 'over', 'under', 'again', 'further', 'then', 'once', 'here', 'there', 'when', 'where', 'why', 'how', 'all', 'any', 'both', 'each', 'few', 'more', 'most', 'other', 'some', 'such', 'no', 'nor', 'not', 'only', 'own', 'same', 'so', 'than', 'too', 'very', 's', 't', 'can', 'will', 'just', 'don', \"don't\", 'should', \"should've\", 'now', 'd', 'll', 'm', 'o', 're', 've', 'y', 'ain', 'aren', \"aren't\", 'couldn', \"couldn't\", 'didn', \"didn't\", 'doesn', \"doesn't\", 'hadn', \"hadn't\", 'hasn', \"hasn't\", 'haven', \"haven't\", 'isn', \"isn't\", 'ma', 'mightn', \"mightn't\", 'mustn', \"mustn't\", 'needn', \"needn't\", 'shan', \"shan't\", 'shouldn', \"shouldn't\", 'wasn', \"wasn't\", 'weren', \"weren't\", 'won', \"won't\", 'wouldn', \"wouldn't\"]\n"
     ]
    }
   ],
   "source": [
    "from nltk.corpus import stopwords\n",
    "stop_words = stopwords.words('english')\n",
    "print(len(stop_words), \"stopwords:\", stop_words)"
   ]
  },
  {
   "cell_type": "code",
   "execution_count": 10,
   "metadata": {
    "scrolled": true
   },
   "outputs": [
    {
     "name": "stdout",
     "output_type": "stream",
     "text": [
      "26 in original text: ['my', 'name', 'is', 'Government', 'and', 'my', 'employee', 'ID', 'is', '1507', 'I', 'am', 'working', 'on', 'project', 'one', 'and', 'my', 'salary', 'is', '1000', 'and', 'I', 'am', 'an', 'intern']\n",
      "13 without stopwords: ['name', 'Government', 'employee', 'ID', '1507', 'I', 'working', 'project', 'one', 'salary', '1000', 'I', 'intern']\n"
     ]
    }
   ],
   "source": [
    "## No. of words without stopwords\n",
    "from nltk.tokenize import word_tokenize\n",
    "words = word_tokenize(text)\n",
    "\n",
    "print(len(words), \"in original text:\", words)\n",
    "## No. of words with stopwords\n",
    "words = [word for word in words if word not in stop_words]\n",
    "print(len(words), \"without stopwords:\", words)"
   ]
  },
  {
   "cell_type": "code",
   "execution_count": 11,
   "metadata": {
    "scrolled": true
   },
   "outputs": [
    {
     "name": "stdout",
     "output_type": "stream",
     "text": [
      "['!', '\"', '#', '$', '%', '&', \"'\", '(', ')', '*', '+', ',', '-', '.', '/', ':', ';', '<', '=', '>', '?', '@', '[', '\\\\', ']', '^', '_', '`', '{', '|', '}', '~']\n",
      "13 words without stopwords and punctuations: ['name', 'Government', 'employee', 'ID', '1507', 'I', 'working', 'project', 'one', 'salary', '1000', 'I', 'intern']\n"
     ]
    }
   ],
   "source": [
    "## using punctuations \n",
    "punctuations = list(string.punctuation)\n",
    "print(punctuations)\n",
    "\n",
    "\n",
    "### removing punctuations from the sentence\n",
    "words = [word for word in words if word not in punctuations]\n",
    "print(len(words), \"words without stopwords and punctuations:\", words)"
   ]
  },
  {
   "cell_type": "code",
   "execution_count": 12,
   "metadata": {},
   "outputs": [
    {
     "name": "stdout",
     "output_type": "stream",
     "text": [
      "Without punctuations: ['name', 'Government', 'employee', 'ID', '1507', 'I', 'working', 'project', 'one', 'salary', '1000', 'I', 'intern']\n"
     ]
    }
   ],
   "source": [
    "# Tokenize\n",
    "from nltk.tokenize import word_tokenize\n",
    "text = word_tokenize(text)\n",
    "\n",
    "# Remove stopwords\n",
    "from nltk.corpus import stopwords\n",
    "stops = stopwords.words('english')\n",
    "# print(stops)\n",
    "words = [word for word in text if word not in stops]\n",
    "\n",
    "# Remove punctuations\n",
    "import string\n",
    "punctuations = list(string.punctuation)\n",
    "# print(punctuations)\n",
    "\n",
    "words = [word for word in words if word not in punctuations]\n",
    "print(\"Without punctuations:\", words)"
   ]
  },
  {
   "cell_type": "code",
   "execution_count": 13,
   "metadata": {},
   "outputs": [
    {
     "data": {
      "text/plain": [
       "'Government'"
      ]
     },
     "execution_count": 13,
     "metadata": {},
     "output_type": "execute_result"
    }
   ],
   "source": [
    "index=words.index('name')\n",
    "index=index+1\n",
    "emp_name=words[index]\n",
    "emp_name"
   ]
  },
  {
   "cell_type": "code",
   "execution_count": 14,
   "metadata": {},
   "outputs": [],
   "source": [
    "index=words.index('ID')\n",
    "index=index+1\n",
    "emp_id=words[index]\n",
    "\n",
    "index=words.index('project')\n",
    "index=index+1\n",
    "emp_text=words[index]\n",
    "\n",
    "index=words.index('salary')\n",
    "index=index+1\n",
    "emp_sal=words[index]\n",
    "\n",
    "index=words.index('salary')\n",
    "index=index+2\n",
    "emp_des=words[index]\n"
   ]
  },
  {
   "cell_type": "code",
   "execution_count": 15,
   "metadata": {},
   "outputs": [
    {
     "name": "stdout",
     "output_type": "stream",
     "text": [
      "1507\n",
      "Government\n",
      "one\n",
      "1000\n",
      "I\n"
     ]
    }
   ],
   "source": [
    "print(emp_id)\n",
    "print(emp_name)\n",
    "print(emp_text)\n",
    "print(emp_sal)\n",
    "print(emp_des)"
   ]
  },
  {
   "cell_type": "code",
   "execution_count": 16,
   "metadata": {
    "scrolled": true
   },
   "outputs": [],
   "source": [
    "mycursor=mydb.cursor()\n",
    "name=emp_name\n",
    "id = emp_id\n",
    "text= emp_text\n",
    "sal= emp_sal\n",
    "des= emp_des\n",
    "start= \"15:38:15\"\n",
    "end= \"20:18:15\"\n",
    "\n",
    "try:\n",
    "    sql = \"INSERT INTO employee (employee_id,employee_name,salary,designation,text,start_at,end_at) VALUES (%s, %s, %s, %s, %s,%s, %s)\"\n",
    "    val = (id,name,sal,des,text,start,end)\n",
    "    mycursor.execute(sql, val)\n",
    "\n",
    "    mydb.commit()\n",
    "    engine=p.init()\n",
    "    engine.say(mycursor.execute(sql,val))\n",
    "    engine.say(\"your record has beeen successfully recorded\")\n",
    "    engine.runAndWait()\n",
    "except:\n",
    "    engine=p.init()\n",
    "    engine.say(\"sorry unable to insert your data\")\n",
    "    engine.runAndWait()\n"
   ]
  },
  {
   "cell_type": "code",
   "execution_count": null,
   "metadata": {},
   "outputs": [],
   "source": []
  },
  {
   "cell_type": "code",
   "execution_count": null,
   "metadata": {},
   "outputs": [],
   "source": []
  },
  {
   "cell_type": "code",
   "execution_count": null,
   "metadata": {},
   "outputs": [],
   "source": []
  },
  {
   "cell_type": "code",
   "execution_count": null,
   "metadata": {},
   "outputs": [],
   "source": []
  },
  {
   "cell_type": "code",
   "execution_count": null,
   "metadata": {},
   "outputs": [],
   "source": []
  }
 ],
 "metadata": {
  "kernelspec": {
   "display_name": "Python 3",
   "language": "python",
   "name": "python3"
  },
  "language_info": {
   "codemirror_mode": {
    "name": "ipython",
    "version": 3
   },
   "file_extension": ".py",
   "mimetype": "text/x-python",
   "name": "python",
   "nbconvert_exporter": "python",
   "pygments_lexer": "ipython3",
   "version": "3.7.4"
  }
 },
 "nbformat": 4,
 "nbformat_minor": 2
}
