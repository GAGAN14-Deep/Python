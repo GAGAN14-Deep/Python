{
 "cells": [
  {
   "cell_type": "code",
   "execution_count": 2,
   "metadata": {
    "scrolled": true
   },
   "outputs": [],
   "source": [
    "import speech_recognition as sr\n",
    "import pyaudio\n",
    "import pyttsx3 as p"
   ]
  },
  {
   "cell_type": "code",
   "execution_count": 2,
   "metadata": {
    "scrolled": true
   },
   "outputs": [],
   "source": [
    "from Web_automation import *"
   ]
  },
  {
   "cell_type": "code",
   "execution_count": 8,
   "metadata": {},
   "outputs": [],
   "source": [
    "import nltk"
   ]
  },
  {
   "cell_type": "code",
   "execution_count": 9,
   "metadata": {},
   "outputs": [
    {
     "name": "stdout",
     "output_type": "stream",
     "text": [
      "showing info https://raw.githubusercontent.com/nltk/nltk_data/gh-pages/index.xml\n"
     ]
    },
    {
     "data": {
      "text/plain": [
       "True"
      ]
     },
     "execution_count": 9,
     "metadata": {},
     "output_type": "execute_result"
    }
   ],
   "source": [
    "nltk.download()"
   ]
  },
  {
   "cell_type": "code",
   "execution_count": 10,
   "metadata": {},
   "outputs": [],
   "source": []
  },
  {
   "cell_type": "code",
   "execution_count": 3,
   "metadata": {},
   "outputs": [
    {
     "name": "stdout",
     "output_type": "stream",
     "text": [
      "\n"
     ]
    }
   ],
   "source": [
    "#recognizing audio and typing\n",
    "r=sr.Recognizer()\n",
    "    \n",
    "with sr.Microphone() as source:\n",
    "    text=r.listen(source)\n",
    "    \n",
    "    try:\n",
    "        recognised_text = r.recognize_google(text)\n",
    "        print(recognised_text)\n",
    "    except sr.UnknownValueError:\n",
    "        print(\"\")\n",
    "    except sr.RequestError as e:\n",
    "        print(\"\")"
   ]
  },
  {
   "cell_type": "code",
   "execution_count": null,
   "metadata": {
    "scrolled": true
   },
   "outputs": [],
   "source": []
  },
  {
   "cell_type": "code",
   "execution_count": 4,
   "metadata": {},
   "outputs": [],
   "source": [
    "#text to speech conversion(in MALE AUDIO)\n",
    "engine = p.init()\n",
    "\n",
    "engine.say(\"Hello, how are you doing\")\n",
    "\n",
    "engine.runAndWait()"
   ]
  },
  {
   "cell_type": "code",
   "execution_count": null,
   "metadata": {
    "scrolled": false
   },
   "outputs": [],
   "source": [
    "#text to speech conversion(in FEMALE AUDIO)\n",
    "engine = p.init()\n",
    "voices = engine.getProperty(\"voices\")\n",
    "engine.setProperty(\"voice\",voices[1].id)\n",
    "\n",
    "engine.say(\"Hello, how are you doing\")\n",
    "\n",
    "engine.runAndWait()"
   ]
  },
  {
   "cell_type": "code",
   "execution_count": null,
   "metadata": {
    "scrolled": false
   },
   "outputs": [],
   "source": [
    "#text to speech conversion(in FEMALE AUDIO)\n",
    "engine = p.init()\n",
    "volume = engine.getProperty(\"volume\")\n",
    "print(volume)\n",
    "\n",
    "engine.say(\"Hello, how are you doing\")\n",
    "engine.say(\"What would you like me to do\")\n",
    "engine.runAndWait()"
   ]
  },
  {
   "cell_type": "code",
   "execution_count": null,
   "metadata": {
    "scrolled": true
   },
   "outputs": [],
   "source": [
    "#text to speech and speech to text in one\n",
    "r=sr.Recognizer()\n",
    "engine = p.init()\n",
    "engine.say(\"Hello, how are you doing\")\n",
    "engine.runAndWait()\n",
    "with sr.Microphone() as source:    \n",
    "    text=r.listen(source)\n",
    "    \n",
    "    try:\n",
    "        recognised_text = r.recognize_google(text)\n",
    "        print(recognised_text)\n",
    "    except sr.UnknownValueError:\n",
    "        print(\"\")\n",
    "    except sr.RequestError as e:\n",
    "        print(\"\")"
   ]
  },
  {
   "cell_type": "code",
   "execution_count": null,
   "metadata": {},
   "outputs": [],
   "source": [
    "#Converting into a conversation now\n",
    "r=sr.Recognizer()\n",
    "engine = p.init()\n",
    "engine.say(\"Hello, how are you doing\")\n",
    "engine.runAndWait()\n",
    "with sr.Microphone() as source:    \n",
    "    text=r.listen(source)\n",
    "    \n",
    "    try:\n",
    "        recognised_text = r.recognize_google(text)\n",
    "        print(recognised_text)\n",
    "    except sr.UnknownValueError:\n",
    "        print(\"\")\n",
    "    except sr.RequestError as e:\n",
    "        print(\"\")\n",
    "    engine.say(\"What would you like me to do\")\n",
    "    engine.runAndWait()\n",
    "    text1=r.listen(source)\n",
    "    try:\n",
    "        recognised_text1 = r.recognize_google(text1)\n",
    "        print(recognised_text1)\n",
    "    except sr.UnknownValueError:\n",
    "        print(\"\")\n",
    "    except sr.RequestError as e:\n",
    "        print(\"\")"
   ]
  },
  {
   "cell_type": "code",
   "execution_count": null,
   "metadata": {},
   "outputs": [],
   "source": [
    "#USing If Else Condition\n",
    "r=sr.Recognizer()\n",
    "engine = p.init()\n",
    "engine.say(\"Hello, how are you doing\")\n",
    "engine.runAndWait()\n",
    "with sr.Microphone() as source:    \n",
    "    text=r.listen(source)\n",
    "    \n",
    "    try:\n",
    "        recognised_text = r.recognize_google(text)\n",
    "        print(recognised_text)\n",
    "        if recognised_text == \"play music\":\n",
    "            music()\n",
    "    except sr.UnknownValueError:\n",
    "        print(\"\")\n",
    "    except sr.RequestError as e:\n",
    "        print(\"\")\n",
    "    engine.say(\"What would you like me to do\")\n",
    "    engine.runAndWait()\n",
    "    text1=r.listen(source)\n",
    "    try:\n",
    "        recognised_text1 = r.recognize_google(text1)\n",
    "        print(recognised_text)\n",
    "        if recognised_text == \"play music\":\n",
    "            music()\n",
    "    except sr.UnknownValueError:\n",
    "        print(\"\")\n",
    "    except sr.RequestError as e:\n",
    "        print(\"\")"
   ]
  },
  {
   "cell_type": "code",
   "execution_count": null,
   "metadata": {},
   "outputs": [],
   "source": [
    "from mydatabase import *"
   ]
  },
  {
   "cell_type": "code",
   "execution_count": null,
   "metadata": {},
   "outputs": [],
   "source": [
    "#USing If Else Condition\n",
    "r=sr.Recognizer()\n",
    "engine = p.init()\n",
    "engine.say(\"Hello, how are you doing\")\n",
    "engine.runAndWait()\n",
    "with sr.Microphone() as source:    \n",
    "    text=r.listen(source)\n",
    "    \n",
    "    try:\n",
    "        recognised_text = r.recognize_google(text)\n",
    "        print(recognised_text)\n",
    "        if recognised_text == \"Print\":\n",
    "            mydatabase()\n",
    "    except sr.UnknownValueError:\n",
    "        print(\"\")\n",
    "    except sr.RequestError as e:\n",
    "        print(\"\")\n",
    "    engine.say(\"What would you like me to do\")\n",
    "    engine.runAndWait()\n",
    "    text1=r.listen(source)\n",
    "    try:\n",
    "        recognised_text1 = r.recognize_google(text1)\n",
    "        print(recognised_text)\n",
    "        if recognised_text == \"Print\":\n",
    "            mydatabase()\n",
    "    except sr.UnknownValueError:\n",
    "        print(\"\")\n",
    "    except sr.RequestError as e:\n",
    "        print(\"\")"
   ]
  },
  {
   "cell_type": "code",
   "execution_count": 19,
   "metadata": {},
   "outputs": [
    {
     "name": "stdout",
     "output_type": "stream",
     "text": [
      "Please say something\n",
      "time over thanks\n"
     ]
    }
   ],
   "source": [
    "r=sr.Recognizer()\n",
    "with sr.Microphone() as source:\n",
    "    print(\"Please say something\")\n",
    "    audio=r.listen(source)\n",
    "    print(\"time over thanks\")\n",
    "    \n",
    "    try:\n",
    "        fetch_data=r.recognize_google()\n",
    "        print(fetch_data)\n",
    "    except:\n",
    "        pass;\n"
   ]
  },
  {
   "cell_type": "code",
   "execution_count": 11,
   "metadata": {},
   "outputs": [],
   "source": []
  },
  {
   "cell_type": "code",
   "execution_count": 13,
   "metadata": {},
   "outputs": [
    {
     "ename": "TypeError",
     "evalue": "'type' object is not iterable",
     "output_type": "error",
     "traceback": [
      "\u001b[1;31m---------------------------------------------------------------------------\u001b[0m",
      "\u001b[1;31mTypeError\u001b[0m                                 Traceback (most recent call last)",
      "\u001b[1;32m<ipython-input-13-e19cb781baf1>\u001b[0m in \u001b[0;36m<module>\u001b[1;34m\u001b[0m\n\u001b[0;32m      1\u001b[0m \u001b[0mstop\u001b[0m \u001b[1;33m=\u001b[0m \u001b[0mstopwords\u001b[0m\u001b[1;33m.\u001b[0m\u001b[0mwords\u001b[0m\u001b[1;33m(\u001b[0m\u001b[1;34m'english'\u001b[0m\u001b[1;33m)\u001b[0m\u001b[1;33m\u001b[0m\u001b[1;33m\u001b[0m\u001b[0m\n\u001b[1;32m----> 2\u001b[1;33m \u001b[1;32mfor\u001b[0m \u001b[0mc\u001b[0m \u001b[1;32min\u001b[0m \u001b[0mlist\u001b[0m\u001b[1;33m:\u001b[0m\u001b[1;33m\u001b[0m\u001b[1;33m\u001b[0m\u001b[0m\n\u001b[0m\u001b[0;32m      3\u001b[0m     \u001b[1;32mif\u001b[0m \u001b[0mc\u001b[0m \u001b[1;32mnot\u001b[0m \u001b[1;32min\u001b[0m \u001b[0mstop_words\u001b[0m\u001b[1;33m:\u001b[0m\u001b[1;33m\u001b[0m\u001b[1;33m\u001b[0m\u001b[0m\n\u001b[0;32m      4\u001b[0m         \u001b[0mz\u001b[0m\u001b[1;33m.\u001b[0m\u001b[0mappend\u001b[0m\u001b[1;33m(\u001b[0m\u001b[0mc\u001b[0m\u001b[1;33m)\u001b[0m\u001b[1;33m\u001b[0m\u001b[1;33m\u001b[0m\u001b[0m\n",
      "\u001b[1;31mTypeError\u001b[0m: 'type' object is not iterable"
     ]
    }
   ],
   "source": []
  }
 ],
 "metadata": {
  "kernelspec": {
   "display_name": "Python 3",
   "language": "python",
   "name": "python3"
  },
  "language_info": {
   "codemirror_mode": {
    "name": "ipython",
    "version": 3
   },
   "file_extension": ".py",
   "mimetype": "text/x-python",
   "name": "python",
   "nbconvert_exporter": "python",
   "pygments_lexer": "ipython3",
   "version": "3.7.4"
  }
 },
 "nbformat": 4,
 "nbformat_minor": 2
}
