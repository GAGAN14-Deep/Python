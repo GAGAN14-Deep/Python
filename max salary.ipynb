{
 "cells": [
  {
   "cell_type": "code",
   "execution_count": 1,
   "metadata": {},
   "outputs": [],
   "source": [
    "import os\n",
    "import mysql.connector\n",
    "import pandas as pd\n",
    "import numpy as np\n",
    "import matplotlib.pyplot as plt\n",
    "import seaborn as sns\n",
    "%matplotlib inline"
   ]
  },
  {
   "cell_type": "code",
   "execution_count": 2,
   "metadata": {},
   "outputs": [],
   "source": [
    "mydb = mysql.connector.connect(host=\"127.0.0.1\",\n",
    "                                    port=\"3306\",\n",
    "                                    user=\"root\",\n",
    "                                    password=\"password\",\n",
    "                                    db=\"database1\")"
   ]
  },
  {
   "cell_type": "code",
   "execution_count": 3,
   "metadata": {
    "scrolled": false
   },
   "outputs": [
    {
     "data": {
      "text/plain": [
       "<mysql.connector.connection.MySQLConnection at 0x18812ab9908>"
      ]
     },
     "execution_count": 3,
     "metadata": {},
     "output_type": "execute_result"
    }
   ],
   "source": [
    "mydb"
   ]
  },
  {
   "cell_type": "code",
   "execution_count": 4,
   "metadata": {},
   "outputs": [
    {
     "name": "stdout",
     "output_type": "stream",
     "text": [
      "(22, 'Gagan', 'checking', 75000, 'assistant manager', datetime.timedelta(seconds=26295), datetime.timedelta(seconds=73095), None, None)\n",
      "(42, 'Gagan', 'testing', 45000, 'meri jaan', datetime.timedelta(seconds=26295), datetime.timedelta(seconds=73095), None, None)\n",
      "(51, 'Gagan', 'testing database', 45000, 'HR', datetime.timedelta(seconds=26295), datetime.timedelta(seconds=73095), None, None)\n",
      "(100, 'Justin', 'going to check', 30000, 'Team Leader', datetime.timedelta(seconds=28800), datetime.timedelta(seconds=39600), None, None)\n",
      "(101, 'Mark', 'the data ', 40000, 'Manager', datetime.timedelta(seconds=32400), datetime.timedelta(seconds=36000), None, None)\n",
      "(102, 'Rosie', 'within this column', 35000, 'HR', datetime.timedelta(seconds=32400), datetime.timedelta(seconds=43200), None, None)\n",
      "(103, 'Lily', 'for txt', 30000, 'Backend Programmer', datetime.timedelta(seconds=39600), datetime.timedelta(seconds=51720), None, None)\n",
      "(104, 'Brian', 'for eg', 38000, 'Asst. Manager', datetime.timedelta(seconds=73858), datetime.timedelta(seconds=40835), None, None)\n",
      "(105, 'Steve', 'for demo', 32000, 'Accountant', datetime.timedelta(seconds=77445), datetime.timedelta(seconds=83745), None, None)\n",
      "(106, 'Jim', 'check', 32000, 'Accountant', datetime.timedelta(seconds=63955), datetime.timedelta(seconds=74755), None, None)\n",
      "(107, 'Pam', 'compile', 25000, 'Receptionist', datetime.timedelta(seconds=73855), datetime.timedelta(seconds=82800), None, None)\n",
      "(108, 'Olivia', 'just kidding', 35000, 'HR', datetime.timedelta(seconds=55845), datetime.timedelta(seconds=59155), None, None)\n",
      "(109, 'Laura', 'testing', 45000, 'Manager', datetime.timedelta(seconds=44295), datetime.timedelta(seconds=55095), None, None)\n",
      "(110, 'Robert', 'testing', 45000, 'Manager', datetime.timedelta(seconds=44295), datetime.timedelta(seconds=55095), None, None)\n",
      "(111, 'Marcus', 'testing', 32000, 'Accounts', datetime.timedelta(seconds=26295), datetime.timedelta(seconds=73095), None, None)\n",
      "(115, 'Robert', 'testing', 32000, 'Accounts', datetime.timedelta(seconds=26295), datetime.timedelta(seconds=73095), None, None)\n",
      "(150, 'Gagan', 'testing', 45000, 'Manager', None, None, None, None)\n",
      "(163, 'Gagan', 'testing', 5000, 'assistant manager', datetime.timedelta(seconds=56295), datetime.timedelta(seconds=73095), None, None)\n",
      "(164, 'Gagan', 'testing', 45000, 'intern', datetime.timedelta(seconds=56295), datetime.timedelta(seconds=73095), None, 'checking')\n",
      "(184, 'Robert', 'testing', 32000, 'Accounts', datetime.timedelta(seconds=26295), datetime.timedelta(seconds=73095), None, None)\n",
      "(201, 'Gagan', 'checking', 45000, 'inter', datetime.timedelta(seconds=56295), datetime.timedelta(seconds=73095), None, None)\n",
      "(202, '408', 'a b c d e f g', 10000, 'ABC', datetime.timedelta(seconds=56295), datetime.timedelta(seconds=73095), None, 'second project')\n",
      "(203, 'ABC', 'checking', 10000, 'ABC', datetime.timedelta(seconds=56295), datetime.timedelta(seconds=73095), None, 'testing')\n"
     ]
    }
   ],
   "source": [
    "#selecting everything from Employee database\n",
    "mycursor= mydb.cursor()\n",
    "mycursor.execute(\"Select * from employee\")\n",
    "\n",
    "myresult= mycursor.fetchall()\n",
    "\n",
    "for row in myresult:\n",
    "    print(row)"
   ]
  },
  {
   "cell_type": "code",
   "execution_count": 25,
   "metadata": {},
   "outputs": [],
   "source": [
    "#Finding the maximum value from database using for loop\n",
    "mycursor= mydb.cursor()\n",
    "mycursor.execute(\"SELECT MAX(Salary) AS maximum FROM employee\")\n",
    "myresult = mycursor.fetchall()\n",
    "\n",
    "for i in myresult:\n",
    "    maximum= float(i[0])"
   ]
  },
  {
   "cell_type": "code",
   "execution_count": null,
   "metadata": {},
   "outputs": [],
   "source": [
    "maximum"
   ]
  },
  {
   "cell_type": "code",
   "execution_count": null,
   "metadata": {},
   "outputs": [],
   "source": [
    "#Finding the maximum value from database using SQL query only\n",
    "\n",
    "mycursor= mydb.cursor()\n",
    "mycursor.execute(\"SELECT MAX(Salary) AS maximum FROM employee\")\n",
    "myresult = mycursor.fetchall()\n"
   ]
  },
  {
   "cell_type": "code",
   "execution_count": null,
   "metadata": {
    "scrolled": true
   },
   "outputs": [],
   "source": [
    "print(myresult)"
   ]
  },
  {
   "cell_type": "code",
   "execution_count": null,
   "metadata": {},
   "outputs": [],
   "source": [
    "mycursor= mydb.cursor()\n",
    "mycursor.execute(\"SELECT MAX(Salary) AS maximum FROM employee\")\n",
    "myresult = mycursor.fetchone()"
   ]
  },
  {
   "cell_type": "code",
   "execution_count": null,
   "metadata": {
    "scrolled": true
   },
   "outputs": [],
   "source": [
    "print(\"the max salary is \", myresult[0])"
   ]
  },
  {
   "cell_type": "code",
   "execution_count": 52,
   "metadata": {
    "scrolled": true
   },
   "outputs": [
    {
     "name": "stdout",
     "output_type": "stream",
     "text": [
      "(100, 'Justin', '3', 'going to check', 30000, 'Team Leader')\n"
     ]
    }
   ],
   "source": [
    "#selecting everything from Employee database\n",
    "mycursor= mydb.cursor()\n",
    "mycursor.execute(\"Select * from employee\")\n",
    "\n",
    "myresult= mycursor.fetchone()\n",
    "\n",
    "print(myresult)\n",
    "\n"
   ]
  }
 ],
 "metadata": {
  "kernelspec": {
   "display_name": "Python 3",
   "language": "python",
   "name": "python3"
  },
  "language_info": {
   "codemirror_mode": {
    "name": "ipython",
    "version": 3
   },
   "file_extension": ".py",
   "mimetype": "text/x-python",
   "name": "python",
   "nbconvert_exporter": "python",
   "pygments_lexer": "ipython3",
   "version": "3.7.4"
  }
 },
 "nbformat": 4,
 "nbformat_minor": 2
}
